{
  "nbformat": 4,
  "nbformat_minor": 0,
  "metadata": {
    "colab": {
      "provenance": [],
      "collapsed_sections": [
        "aU5yQaZIUMaE",
        "nrYkl9fZ16IZ",
        "EJreZlvnWQ1f"
      ]
    },
    "kernelspec": {
      "name": "python3",
      "display_name": "Python 3"
    },
    "language_info": {
      "name": "python"
    }
  },
  "cells": [
    {
      "cell_type": "code",
      "execution_count": 1,
      "metadata": {
        "id": "ehhLzj4Hwt4O"
      },
      "outputs": [],
      "source": [
        "import tensorflow as tf\n",
        "from tensorflow.keras import layers, models\n",
        "import numpy as np\n",
        "from sklearn.datasets import fetch_openml\n",
        "import numpy as np\n"
      ]
    },
    {
      "cell_type": "markdown",
      "source": [
        "### Load Datasets"
      ],
      "metadata": {
        "id": "nlKFy1mc13mj"
      }
    },
    {
      "cell_type": "markdown",
      "source": [
        "#### Load MNIST"
      ],
      "metadata": {
        "id": "aU5yQaZIUMaE"
      }
    },
    {
      "cell_type": "code",
      "source": [
        "(x_train, y_train), (x_test, y_test) = tf.keras.datasets.mnist.load_data()"
      ],
      "metadata": {
        "id": "R-M8EjYnw_PB"
      },
      "execution_count": 3,
      "outputs": []
    },
    {
      "cell_type": "code",
      "source": [
        "x_train[0:64].shape"
      ],
      "metadata": {
        "colab": {
          "base_uri": "https://localhost:8080/"
        },
        "id": "FTfG6s03xGds",
        "outputId": "a6c797e8-ea3e-4ac8-91f6-b5c4d1894af0"
      },
      "execution_count": 6,
      "outputs": [
        {
          "output_type": "execute_result",
          "data": {
            "text/plain": [
              "(64, 28, 28)"
            ]
          },
          "metadata": {},
          "execution_count": 6
        }
      ]
    },
    {
      "cell_type": "code",
      "source": [
        "first_mnist_batch = x_train[0:64]\n",
        "first_mnist_batch = first_mnist_batch.reshape(64, 28, 28, 1)\n",
        "first_mnist_batch.shape"
      ],
      "metadata": {
        "colab": {
          "base_uri": "https://localhost:8080/"
        },
        "id": "qEYerckQx1YT",
        "outputId": "8f91de49-ed38-4f18-f1ae-025251862eae"
      },
      "execution_count": 8,
      "outputs": [
        {
          "output_type": "execute_result",
          "data": {
            "text/plain": [
              "(64, 28, 28, 1)"
            ]
          },
          "metadata": {},
          "execution_count": 8
        }
      ]
    },
    {
      "cell_type": "markdown",
      "source": [
        "### Load USPS"
      ],
      "metadata": {
        "id": "nrYkl9fZ16IZ"
      }
    },
    {
      "cell_type": "code",
      "source": [
        "# Load the USPS dataset from OpenML\n",
        "usps = fetch_openml('usps', version=1)\n",
        "\n",
        "# Convert the data into a more usable form\n",
        "usps_data = usps.data.astype(np.float32)\n",
        "usps_labels = usps.target.astype(np.int32)\n",
        "\n",
        "# Reshape the images to 16x16 (if necessary)\n",
        "usps_data = usps_data.values.reshape(-1, 16, 16)"
      ],
      "metadata": {
        "colab": {
          "base_uri": "https://localhost:8080/"
        },
        "id": "YpzXjeDH17Rn",
        "outputId": "a396078c-eaf6-494c-cdb3-ee6a8ed5cc55"
      },
      "execution_count": 9,
      "outputs": [
        {
          "output_type": "stream",
          "name": "stderr",
          "text": [
            "/usr/local/lib/python3.11/dist-packages/sklearn/datasets/_openml.py:1030: UserWarning: Version 1 of dataset USPS is inactive, meaning that issues have been found in the dataset. Try using a newer version from this URL: https://api.openml.org/data/v1/download/18805612/USPS.arff\n",
            "  warn(\n"
          ]
        }
      ]
    },
    {
      "cell_type": "code",
      "source": [
        "usps_data[0:64].shape"
      ],
      "metadata": {
        "colab": {
          "base_uri": "https://localhost:8080/"
        },
        "id": "XbhPaU5E18v_",
        "outputId": "69d1e517-60e0-4d6a-ceb1-63317b717edc"
      },
      "execution_count": 11,
      "outputs": [
        {
          "output_type": "execute_result",
          "data": {
            "text/plain": [
              "(64, 16, 16)"
            ]
          },
          "metadata": {},
          "execution_count": 11
        }
      ]
    },
    {
      "cell_type": "code",
      "source": [
        "first_usps_batch = usps_data[0:64]\n",
        "first_usps_batch = first_usps_batch.reshape(64, 16, 16, 1)\n",
        "first_usps_batch.shape"
      ],
      "metadata": {
        "colab": {
          "base_uri": "https://localhost:8080/"
        },
        "id": "PgH81a862SkA",
        "outputId": "0cfcc9e4-7e2b-4f5e-a76f-c303ac3e8fb4"
      },
      "execution_count": 12,
      "outputs": [
        {
          "output_type": "execute_result",
          "data": {
            "text/plain": [
              "(64, 16, 16, 1)"
            ]
          },
          "metadata": {},
          "execution_count": 12
        }
      ]
    },
    {
      "cell_type": "markdown",
      "source": [
        "### Model Architecture"
      ],
      "metadata": {
        "id": "-HV1oRYmCNEQ"
      }
    },
    {
      "cell_type": "markdown",
      "source": [
        "#### Encoders Architecture"
      ],
      "metadata": {
        "id": "PXGHW5h6UoFy"
      }
    },
    {
      "cell_type": "code",
      "source": [
        "enc_first_layer = models.Sequential([\n",
        "    layers.InputLayer(shape=(None, None, 1)),\n",
        "\n",
        "    layers.Conv2D(64, (7, 7), strides=(1, 1), padding='same'),\n",
        "    layers.BatchNormalization(),\n",
        "    layers.LeakyReLU(),\n",
        "])\n",
        "\n",
        "##################################################################\n",
        "\n",
        "enc_second_layer = models.Sequential([\n",
        "    layers.InputLayer(shape=(None, None, 64)),\n",
        "\n",
        "    layers.Conv2D(128, (5, 5), strides=(2, 2), padding='same'),\n",
        "    layers.BatchNormalization(),\n",
        "    layers.LeakyReLU(),\n",
        "])\n",
        "\n",
        "##################################################################\n",
        "\n",
        "enc_third_layer_source = models.Sequential([\n",
        "    layers.InputLayer(shape=(None, None, 128)),\n",
        "\n",
        "    layers.Conv2D(256, (3, 3), strides=(2, 2), padding='same'),\n",
        "    layers.BatchNormalization(),\n",
        "    layers.LeakyReLU(),\n",
        "])\n",
        "\n",
        "enc_third_layer_target = models.Sequential([\n",
        "    layers.InputLayer(shape=(None, None, 128)),\n",
        "\n",
        "    layers.Conv2D(256, (3, 3), strides=(1, 1), padding='same'),\n",
        "    layers.BatchNormalization(),\n",
        "    layers.LeakyReLU(),\n",
        "])\n",
        "\n",
        "##################################################################\n",
        "\n",
        "enc_forth_layer_source = models.Sequential([\n",
        "    layers.InputLayer(shape=(None, None, 256)),\n",
        "\n",
        "    layers.Conv2D(512, (3, 3), strides=(1, 1), padding='same'),\n",
        "    layers.BatchNormalization(),\n",
        "    layers.LeakyReLU(),\n",
        "])\n",
        "\n",
        "enc_forth_layer_target = models.Sequential([\n",
        "    layers.InputLayer(shape=(None, None, 256)),\n",
        "\n",
        "    layers.Conv2D(512, (2, 2), strides=(1, 1), padding='valid'),\n",
        "    layers.BatchNormalization(),\n",
        "    layers.LeakyReLU(),\n",
        "])\n",
        "\n",
        "##################################################################\n",
        "\n",
        "enc_fifth_layer =  models.Sequential([\n",
        "    layers.InputLayer(shape=(None, None, 512)),\n",
        "\n",
        "    layers.Conv2D(256, (3, 3), strides=(1, 1), padding='same'),\n",
        "    layers.BatchNormalization(),\n",
        "    layers.LeakyReLU(),\n",
        "])\n",
        "\n",
        "##################################################################\n",
        "\n",
        "enc_sixth_layer = models.Sequential([\n",
        "    layers.InputLayer(shape=(None, None, 256)),\n",
        "\n",
        "    layers.Conv2D(128, (3, 3), strides=(3, 3), padding='same'),\n",
        "    layers.BatchNormalization(),\n",
        "    layers.LeakyReLU(),\n",
        "])\n",
        "\n",
        "mnist_encoder = [enc_first_layer, enc_second_layer, enc_third_layer_source, enc_forth_layer_source, enc_fifth_layer, enc_sixth_layer]\n",
        "usps_encoder = [enc_first_layer, enc_second_layer, enc_third_layer_target, enc_forth_layer_target, enc_fifth_layer, enc_sixth_layer]"
      ],
      "metadata": {
        "id": "a79Jwq6RCRBL"
      },
      "execution_count": 21,
      "outputs": []
    },
    {
      "cell_type": "markdown",
      "source": [
        "#### Generators Architecture"
      ],
      "metadata": {
        "id": "IBGTd6wuCk29"
      }
    },
    {
      "cell_type": "code",
      "source": [
        "gen_first_layer = models.Sequential([\n",
        "    layers.InputLayer(shape=(None, None, 128)),\n",
        "    layers.Conv2DTranspose(128, (3, 3), strides=(1, 1), padding='same'),\n",
        "    layers.BatchNormalization(),\n",
        "    layers.LeakyReLU(),\n",
        "])\n",
        "\n",
        "##################################################################\n",
        "\n",
        "gen_second_layer = models.Sequential([\n",
        "    layers.InputLayer(shape=(None, None, 128)),\n",
        "    layers.Conv2DTranspose(256, (3, 3), strides=(1, 1), padding='same'),\n",
        "    layers.BatchNormalization(),\n",
        "    layers.LeakyReLU(),\n",
        "])\n",
        "\n",
        "##################################################################\n",
        "\n",
        "gen_third_layer_source = models.Sequential([\n",
        "    layers.InputLayer(shape=(None, None, 256)),\n",
        "    layers.Conv2DTranspose(512, (3, 3), strides=(1, 1), padding='same'),\n",
        "    layers.BatchNormalization(),\n",
        "    layers.LeakyReLU(),\n",
        "])\n",
        "\n",
        "gen_third_layer_target = models.Sequential([\n",
        "    layers.InputLayer(shape=(None, None, 256)),\n",
        "    layers.Conv2DTranspose(512, (2, 2), strides=(1, 1), padding='valid'),\n",
        "    layers.BatchNormalization(),\n",
        "    layers.LeakyReLU(),\n",
        "])\n",
        "\n",
        "##################################################################\n",
        "\n",
        "gen_forth_layer = models.Sequential([\n",
        "    layers.InputLayer(shape=(None, None, 512)),\n",
        "    layers.Conv2DTranspose(256, (3, 3), strides=(2, 2), padding='same'),\n",
        "    layers.BatchNormalization(),\n",
        "    layers.LeakyReLU(),\n",
        "])\n",
        "\n",
        "##################################################################\n",
        "\n",
        "gen_fifth_layer_source =  models.Sequential([\n",
        "    layers.InputLayer(shape=(None, None, 256)),\n",
        "    layers.Conv2DTranspose(128, (5, 5), strides=(2, 2), padding='same'),\n",
        "    layers.BatchNormalization(),\n",
        "    layers.LeakyReLU(),\n",
        "])\n",
        "\n",
        "gen_fifth_layer_target=  models.Sequential([\n",
        "    layers.InputLayer(shape=(None, None, 256)),\n",
        "    layers.Conv2DTranspose(128, (5, 5), strides=(1, 1), padding='same'),\n",
        "    layers.BatchNormalization(),\n",
        "    layers.LeakyReLU(),\n",
        "])\n",
        "\n",
        "\n",
        "##################################################################\n",
        "\n",
        "gen_sixth_layer = models.Sequential([\n",
        "    layers.InputLayer(shape=(None, None, 128)),\n",
        "\n",
        "    layers.Conv2D(64, (7, 7), strides=(1, 1), padding='same'),\n",
        "    layers.BatchNormalization(),\n",
        "    layers.LeakyReLU(),\n",
        "])\n",
        "\n",
        "gen_last_layer = models.Sequential([\n",
        "    layers.Conv2DTranspose(1, kernel_size=(1, 1), strides=(1, 1), padding=\"same\"),\n",
        "    layers.Activation(\"tanh\")\n",
        "])\n",
        "\n",
        "mnist_generator = [gen_first_layer, gen_second_layer, gen_third_layer_source, gen_forth_layer, gen_fifth_layer_source, gen_sixth_layer, gen_last_layer]\n",
        "usps_generator = [gen_first_layer, gen_second_layer, gen_third_layer_target, gen_forth_layer, gen_fifth_layer_target, gen_sixth_layer, gen_last_layer]"
      ],
      "metadata": {
        "id": "UXvzQ3B_Us2V"
      },
      "execution_count": 22,
      "outputs": []
    },
    {
      "cell_type": "markdown",
      "source": [
        "### Forward Passes"
      ],
      "metadata": {
        "id": "JGZLwucECxu7"
      }
    },
    {
      "cell_type": "code",
      "source": [
        "x = first_mnist_batch\n",
        "\n",
        "mnist_latent = None\n",
        "print(f'Start: {x.shape}')\n",
        "i = 1\n",
        "for layer in mnist_encoder:\n",
        "  x = layer.predict(x)\n",
        "  print(f'{i}th layer: {x.shape}')\n",
        "  mnist_latent = x\n",
        "  i += 1\n",
        "\n",
        "print(f'End: {mnist_latent.shape}')"
      ],
      "metadata": {
        "colab": {
          "base_uri": "https://localhost:8080/"
        },
        "id": "k-km2jFVycbp",
        "outputId": "46edc61d-3250-4420-da4d-e41b27af0308",
        "collapsed": true
      },
      "execution_count": 23,
      "outputs": [
        {
          "output_type": "stream",
          "name": "stdout",
          "text": [
            "Start: (64, 28, 28, 1)\n",
            "\u001b[1m2/2\u001b[0m \u001b[32m━━━━━━━━━━━━━━━━━━━━\u001b[0m\u001b[37m\u001b[0m \u001b[1m0s\u001b[0m 40ms/step\n",
            "1th layer: (64, 28, 28, 64)\n",
            "\u001b[1m2/2\u001b[0m \u001b[32m━━━━━━━━━━━━━━━━━━━━\u001b[0m\u001b[37m\u001b[0m \u001b[1m0s\u001b[0m 57ms/step\n",
            "2th layer: (64, 14, 14, 128)\n",
            "\u001b[1m2/2\u001b[0m \u001b[32m━━━━━━━━━━━━━━━━━━━━\u001b[0m\u001b[37m\u001b[0m \u001b[1m0s\u001b[0m 34ms/step\n",
            "3th layer: (64, 7, 7, 256)\n",
            "\u001b[1m2/2\u001b[0m \u001b[32m━━━━━━━━━━━━━━━━━━━━\u001b[0m\u001b[37m\u001b[0m \u001b[1m0s\u001b[0m 74ms/step\n",
            "4th layer: (64, 7, 7, 512)\n",
            "\u001b[1m2/2\u001b[0m \u001b[32m━━━━━━━━━━━━━━━━━━━━\u001b[0m\u001b[37m\u001b[0m \u001b[1m0s\u001b[0m 72ms/step\n",
            "5th layer: (64, 7, 7, 256)\n",
            "\u001b[1m2/2\u001b[0m \u001b[32m━━━━━━━━━━━━━━━━━━━━\u001b[0m\u001b[37m\u001b[0m \u001b[1m0s\u001b[0m 20ms/step\n",
            "6th layer: (64, 3, 3, 128)\n",
            "End: (64, 3, 3, 128)\n"
          ]
        }
      ]
    },
    {
      "cell_type": "code",
      "source": [
        "x = first_usps_batch\n",
        "\n",
        "usps_latent = None\n",
        "print(f'Start: {x.shape}')\n",
        "i = 1\n",
        "for layer in usps_encoder:\n",
        "  x = layer.predict(x)\n",
        "  usps_latent = x\n",
        "  print(f'{i}th layer: {x.shape}')\n",
        "  i += 1\n",
        "\n",
        "print(f'End: {usps_latent.shape}')"
      ],
      "metadata": {
        "colab": {
          "base_uri": "https://localhost:8080/"
        },
        "id": "XaqAM5LMfM6j",
        "outputId": "a51b3b34-2610-4ca7-88f6-88765f581978"
      },
      "execution_count": 24,
      "outputs": [
        {
          "output_type": "stream",
          "name": "stdout",
          "text": [
            "Start: (64, 16, 16, 1)\n",
            "\u001b[1m2/2\u001b[0m \u001b[32m━━━━━━━━━━━━━━━━━━━━\u001b[0m\u001b[37m\u001b[0m \u001b[1m0s\u001b[0m 19ms/step\n",
            "1th layer: (64, 16, 16, 64)\n",
            "\u001b[1m2/2\u001b[0m \u001b[32m━━━━━━━━━━━━━━━━━━━━\u001b[0m\u001b[37m\u001b[0m \u001b[1m0s\u001b[0m 32ms/step\n",
            "2th layer: (64, 8, 8, 128)\n",
            "\u001b[1m2/2\u001b[0m \u001b[32m━━━━━━━━━━━━━━━━━━━━\u001b[0m\u001b[37m\u001b[0m \u001b[1m0s\u001b[0m 35ms/step\n",
            "3th layer: (64, 8, 8, 256)\n",
            "\u001b[1m2/2\u001b[0m \u001b[32m━━━━━━━━━━━━━━━━━━━━\u001b[0m\u001b[37m\u001b[0m \u001b[1m0s\u001b[0m 43ms/step\n",
            "4th layer: (64, 7, 7, 512)\n",
            "\u001b[1m2/2\u001b[0m \u001b[32m━━━━━━━━━━━━━━━━━━━━\u001b[0m\u001b[37m\u001b[0m \u001b[1m0s\u001b[0m 78ms/step\n",
            "5th layer: (64, 7, 7, 256)\n",
            "\u001b[1m2/2\u001b[0m \u001b[32m━━━━━━━━━━━━━━━━━━━━\u001b[0m\u001b[37m\u001b[0m \u001b[1m0s\u001b[0m 18ms/step\n",
            "6th layer: (64, 3, 3, 128)\n",
            "End: (64, 3, 3, 128)\n"
          ]
        }
      ]
    },
    {
      "cell_type": "markdown",
      "source": [
        "Both result in shape `(3, 3, 128)`, which seems good."
      ],
      "metadata": {
        "id": "M2yx-vBcVosX"
      }
    },
    {
      "cell_type": "code",
      "source": [],
      "metadata": {
        "id": "DP5UJkTwmpFA"
      },
      "execution_count": null,
      "outputs": []
    },
    {
      "cell_type": "code",
      "source": [
        "# generate from latent space usps image\n",
        "x = mnist_latent\n",
        "usps_gen_img = None\n",
        "print(f'Start: {x.shape}')\n",
        "i = 1\n",
        "for layer in usps_generator:\n",
        "  x = layer.predict(x)\n",
        "  print(f'{i}th layer: {x.shape}')\n",
        "  usps_gen_img = x\n",
        "  i += 1\n",
        "\n",
        "print(f'End: {usps_gen_img.shape}')"
      ],
      "metadata": {
        "colab": {
          "base_uri": "https://localhost:8080/"
        },
        "id": "EoTCVmSgo10c",
        "outputId": "e532d111-aba8-4b41-f455-9adac31e3f32"
      },
      "execution_count": 25,
      "outputs": [
        {
          "output_type": "stream",
          "name": "stdout",
          "text": [
            "Start: (64, 3, 3, 128)\n",
            "\u001b[1m2/2\u001b[0m \u001b[32m━━━━━━━━━━━━━━━━━━━━\u001b[0m\u001b[37m\u001b[0m \u001b[1m0s\u001b[0m 23ms/step \n",
            "1th layer: (64, 3, 3, 128)\n",
            "\u001b[1m2/2\u001b[0m \u001b[32m━━━━━━━━━━━━━━━━━━━━\u001b[0m\u001b[37m\u001b[0m \u001b[1m0s\u001b[0m 32ms/step\n",
            "2th layer: (64, 3, 3, 256)\n",
            "\u001b[1m2/2\u001b[0m \u001b[32m━━━━━━━━━━━━━━━━━━━━\u001b[0m\u001b[37m\u001b[0m \u001b[1m0s\u001b[0m 47ms/step\n",
            "3th layer: (64, 4, 4, 512)\n",
            "\u001b[1m2/2\u001b[0m \u001b[32m━━━━━━━━━━━━━━━━━━━━\u001b[0m\u001b[37m\u001b[0m \u001b[1m0s\u001b[0m 78ms/step\n",
            "4th layer: (64, 8, 8, 256)\n",
            "\u001b[1m2/2\u001b[0m \u001b[32m━━━━━━━━━━━━━━━━━━━━\u001b[0m\u001b[37m\u001b[0m \u001b[1m0s\u001b[0m 92ms/step\n",
            "5th layer: (64, 8, 8, 128)\n",
            "\u001b[1m2/2\u001b[0m \u001b[32m━━━━━━━━━━━━━━━━━━━━\u001b[0m\u001b[37m\u001b[0m \u001b[1m0s\u001b[0m 46ms/step\n",
            "6th layer: (64, 8, 8, 64)\n",
            "\u001b[1m2/2\u001b[0m \u001b[32m━━━━━━━━━━━━━━━━━━━━\u001b[0m\u001b[37m\u001b[0m \u001b[1m0s\u001b[0m 16ms/step \n",
            "7th layer: (64, 8, 8, 1)\n",
            "End: (64, 8, 8, 1)\n"
          ]
        }
      ]
    },
    {
      "cell_type": "markdown",
      "source": [
        "USPS image should be of shape `(16, 16)`"
      ],
      "metadata": {
        "id": "NHwO_X3VV9VL"
      }
    },
    {
      "cell_type": "code",
      "source": [
        "# from latent to mnist\n",
        "x = usps_latent\n",
        "mnist_gen_img = None\n",
        "print(f'Start: {x.shape}')\n",
        "i = 1\n",
        "for layer in mnist_generator:\n",
        "  x = layer.predict(x)\n",
        "  print(f'{i}th layer: {x.shape}')\n",
        "  mnist_gen_img = x\n",
        "  i += 1\n",
        "\n",
        "print(f'End: {mnist_gen_img.shape}')"
      ],
      "metadata": {
        "colab": {
          "base_uri": "https://localhost:8080/"
        },
        "id": "Rpp9EK15pA_q",
        "outputId": "23b64082-47a2-4641-8b40-dcf26afcd337"
      },
      "execution_count": 26,
      "outputs": [
        {
          "output_type": "stream",
          "name": "stdout",
          "text": [
            "Start: (64, 3, 3, 128)\n",
            "\u001b[1m2/2\u001b[0m \u001b[32m━━━━━━━━━━━━━━━━━━━━\u001b[0m\u001b[37m\u001b[0m \u001b[1m0s\u001b[0m 26ms/step\n",
            "1th layer: (64, 3, 3, 128)\n",
            "\u001b[1m2/2\u001b[0m \u001b[32m━━━━━━━━━━━━━━━━━━━━\u001b[0m\u001b[37m\u001b[0m \u001b[1m0s\u001b[0m 33ms/step\n",
            "2th layer: (64, 3, 3, 256)\n",
            "\u001b[1m2/2\u001b[0m \u001b[32m━━━━━━━━━━━━━━━━━━━━\u001b[0m\u001b[37m\u001b[0m \u001b[1m0s\u001b[0m 72ms/step\n",
            "3th layer: (64, 3, 3, 512)\n",
            "\u001b[1m2/2\u001b[0m \u001b[32m━━━━━━━━━━━━━━━━━━━━\u001b[0m\u001b[37m\u001b[0m \u001b[1m0s\u001b[0m 71ms/step\n",
            "4th layer: (64, 6, 6, 256)\n",
            "\u001b[1m2/2\u001b[0m \u001b[32m━━━━━━━━━━━━━━━━━━━━\u001b[0m\u001b[37m\u001b[0m \u001b[1m0s\u001b[0m 76ms/step\n",
            "5th layer: (64, 12, 12, 128)\n",
            "\u001b[1m2/2\u001b[0m \u001b[32m━━━━━━━━━━━━━━━━━━━━\u001b[0m\u001b[37m\u001b[0m \u001b[1m0s\u001b[0m 77ms/step\n",
            "6th layer: (64, 12, 12, 64)\n",
            "\u001b[1m2/2\u001b[0m \u001b[32m━━━━━━━━━━━━━━━━━━━━\u001b[0m\u001b[37m\u001b[0m \u001b[1m0s\u001b[0m 16ms/step\n",
            "7th layer: (64, 12, 12, 1)\n",
            "End: (64, 12, 12, 1)\n"
          ]
        }
      ]
    },
    {
      "cell_type": "markdown",
      "source": [
        "MNIST image should be of shape `(28, 28)`."
      ],
      "metadata": {
        "id": "uZy1BVoJWKC1"
      }
    },
    {
      "cell_type": "markdown",
      "source": [
        "### Discriminators"
      ],
      "metadata": {
        "id": "EJreZlvnWQ1f"
      }
    },
    {
      "cell_type": "code",
      "source": [
        "# First Layer\n",
        "ld_first_layer = models.Sequential([\n",
        "    layers.InputLayer(input_shape=(None, None, 128)),  # Assuming 3 channels (RGB input)\n",
        "    layers.Conv2D(256, (3, 3), strides=(1, 1), padding='same'),\n",
        "    layers.LeakyReLU(alpha=0.1),\n",
        "    layers.MaxPooling2D(pool_size=(2, 2), strides=(1, 1)),\n",
        "])\n",
        "\n",
        "##################################################################\n",
        "\n",
        "# Second Layer\n",
        "ld_second_layer = models.Sequential([\n",
        "    layers.InputLayer(input_shape=(None, None, 256)),\n",
        "    layers.Conv2D(512, (3, 3), strides=(1, 1), padding='same'),\n",
        "    layers.LeakyReLU(alpha=0.1),\n",
        "    layers.MaxPooling2D(pool_size=(2, 2), strides=(2, 2)),\n",
        "])\n",
        "\n",
        "##################################################################\n",
        "\n",
        "# Third Layer\n",
        "ld_third_layer = models.Sequential([\n",
        "    layers.InputLayer(input_shape=(None, None, 512)),\n",
        "    layers.Conv2D(256, (3, 3), strides=(1, 1), padding='same'),\n",
        "    layers.LeakyReLU(alpha=0.1),\n",
        "    layers.MaxPooling2D(pool_size=(2, 2), strides=(1, 1)),\n",
        "])\n",
        "\n",
        "##################################################################\n",
        "\n",
        "# Fourth Layer (Fully connected)\n",
        "# ld_fourth_layer = models.Sequential([\n",
        "#     layers.InputLayer(input_shape=(None, None, 256)),  # Assuming the final output size from Conv layers\n",
        "#     layers.Flatten(),  # Flatten the output to feed into the Dense layer\n",
        "#     layers.Dense(1),\n",
        "#     # layers.Activation(\"sigmoid\")\n",
        "# ])"
      ],
      "metadata": {
        "colab": {
          "base_uri": "https://localhost:8080/"
        },
        "id": "hL3F7l6h0PNK",
        "outputId": "2b66fcb2-cca1-419e-8f1e-ef5b23f01dce"
      },
      "execution_count": null,
      "outputs": [
        {
          "output_type": "stream",
          "name": "stderr",
          "text": [
            "/usr/local/lib/python3.11/dist-packages/keras/src/layers/core/input_layer.py:27: UserWarning: Argument `input_shape` is deprecated. Use `shape` instead.\n",
            "  warnings.warn(\n",
            "/usr/local/lib/python3.11/dist-packages/keras/src/layers/activations/leaky_relu.py:41: UserWarning: Argument `alpha` is deprecated. Use `negative_slope` instead.\n",
            "  warnings.warn(\n"
          ]
        }
      ]
    },
    {
      "cell_type": "code",
      "source": [],
      "metadata": {
        "id": "PhtnI11q7Gvx"
      },
      "execution_count": null,
      "outputs": []
    }
  ]
}