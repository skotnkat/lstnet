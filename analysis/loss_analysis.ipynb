{
 "cells": [
  {
   "cell_type": "code",
   "execution_count": 2,
   "id": "0fd8f39c-88d3-4597-a805-5e1c01d0fd1f",
   "metadata": {},
   "outputs": [],
   "source": [
    "!python analyze_losses.py --folder1 ../output_base_uda_50 --split train --plot_type component"
   ]
  },
  {
   "cell_type": "code",
   "execution_count": 23,
   "id": "581e40af-83f8-4a33-9b37-05cff6fb6e8c",
   "metadata": {},
   "outputs": [
    {
     "name": "stdout",
     "output_type": "stream",
     "text": [
      "Plot saved to ../output_base_uda_50/../output_base_uda_50/analysis\n"
     ]
    }
   ],
   "source": [
    "!python analyze_losses.py --folder1 ../output_base_uda_50 --split train --plot_type component --output_folder ../output_base_uda_50/analysis"
   ]
  },
  {
   "cell_type": "code",
   "execution_count": 4,
   "id": "b2304050-a98f-45be-99cc-e174c7e29092",
   "metadata": {},
   "outputs": [],
   "source": [
    "!python analyze_losses.py --folder1 ../output_base_uda_50 --compare --folder2 ../output_base_uda_100 --split train --plot_type total"
   ]
  },
  {
   "cell_type": "code",
   "execution_count": 7,
   "id": "6770f1f2-46a4-4209-a913-c6aa178b7ba8",
   "metadata": {},
   "outputs": [
    {
     "name": "stdout",
     "output_type": "stream",
     "text": [
      "Plot saved to ../output_base_uda_50/analysis/comparison_total_losses.png\n",
      "Plot saved to ../output_base_uda_100/analysis/comparison_total_losses.png\n"
     ]
    }
   ],
   "source": [
    "!python analyze_losses.py --folder1 ../output_base_uda_50 --compare --folder2 ../output_base_uda_100 --split train --plot_type total --output_folder analysis"
   ]
  },
  {
   "cell_type": "code",
   "execution_count": 10,
   "id": "ebb46198-8a2e-464d-8c2f-c99db0fe72c0",
   "metadata": {},
   "outputs": [],
   "source": [
    "!python analyze_losses.py --folder1 ../output_base_uda_100 --compare --folder2 ../output_base_uda_100_freq_3 --split train --plot_type component"
   ]
  },
  {
   "cell_type": "code",
   "execution_count": 14,
   "id": "8ba87836-f300-4af3-821a-c210026afe26",
   "metadata": {},
   "outputs": [],
   "source": [
    "!python analyze_losses.py --folder1 ../output_base_uda_100 --compare --folder2 ../output_base_uda_100_freq_3 --split train --plot_type component --output_folder analysis"
   ]
  },
  {
   "cell_type": "code",
   "execution_count": null,
   "id": "9373c610-63c3-4d5c-ae69-015566a4a581",
   "metadata": {},
   "outputs": [],
   "source": []
  }
 ],
 "metadata": {
  "kernelspec": {
   "display_name": "Python 3 (ipykernel)",
   "language": "python",
   "name": "python3"
  },
  "language_info": {
   "codemirror_mode": {
    "name": "ipython",
    "version": 3
   },
   "file_extension": ".py",
   "mimetype": "text/x-python",
   "name": "python",
   "nbconvert_exporter": "python",
   "pygments_lexer": "ipython3",
   "version": "3.11.5"
  }
 },
 "nbformat": 4,
 "nbformat_minor": 5
}
